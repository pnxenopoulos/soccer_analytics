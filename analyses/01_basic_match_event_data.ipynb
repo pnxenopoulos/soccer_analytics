{
 "cells": [
  {
   "cell_type": "markdown",
   "metadata": {},
   "source": [
    "# Basic Match Event Data\n",
    "This Jupyter Notebook shows the basics of dealing with the reading of the match data. The requirements to run these notebooks can be found in `requirements.txt` in the main directory.\n",
    "\n",
    "First we start by calling in our necessary libraries. We wrap the library calls with `suppressMessages()` to reduce the amount of warning messages we receive."
   ]
  },
  {
   "cell_type": "code",
   "execution_count": 38,
   "metadata": {},
   "outputs": [],
   "source": [
    "suppressMessages(library(dplyr))\n",
    "suppressMessages(library(ggplot2))\n",
    "suppressMessages(library(StatsBombR))"
   ]
  },
  {
   "cell_type": "markdown",
   "metadata": {},
   "source": [
    "Next, we can call in the free StatsBomb data through one of their helper functions. This calls in 79,863 events which we can start to analyze. As we can see, there are quite a few columns in this dataset to consider. \n",
    "\n",
    "Also, please be cognizant of StatBomb's user agreement."
   ]
  },
  {
   "cell_type": "code",
   "execution_count": 15,
   "metadata": {},
   "outputs": [
    {
     "name": "stdout",
     "output_type": "stream",
     "text": [
      "[1] \"Whilst we are keen to share data and facilitate research, we also urge you to be responsible with the data. Please register your details on https://www.statsbomb.com/resource-centre and read our User Agreement carefully.\"\n",
      "[1] \"Whilst we are keen to share data and facilitate research, we also urge you to be responsible with the data. Please register your details on https://www.statsbomb.com/resource-centre and read our User Agreement carefully.\"\n",
      "[1] \"Whilst we are keen to share data and facilitate research, we also urge you to be responsible with the data. Please register your details on https://www.statsbomb.com/resource-centre and read our User Agreement carefully.\"\n"
     ]
    },
    {
     "data": {
      "text/html": [
       "<ol class=list-inline>\n",
       "\t<li>'id'</li>\n",
       "\t<li>'index'</li>\n",
       "\t<li>'period'</li>\n",
       "\t<li>'timestamp'</li>\n",
       "\t<li>'minute'</li>\n",
       "\t<li>'second'</li>\n",
       "\t<li>'possession'</li>\n",
       "\t<li>'duration'</li>\n",
       "\t<li>'related_events'</li>\n",
       "\t<li>'location'</li>\n",
       "\t<li>'under_pressure'</li>\n",
       "\t<li>'type.id'</li>\n",
       "\t<li>'type.name'</li>\n",
       "\t<li>'possession_team.id'</li>\n",
       "\t<li>'possession_team.name'</li>\n",
       "\t<li>'play_pattern.id'</li>\n",
       "\t<li>'play_pattern.name'</li>\n",
       "\t<li>'team.id'</li>\n",
       "\t<li>'team.name'</li>\n",
       "\t<li>'tactics.formation'</li>\n",
       "\t<li>'tactics.lineup'</li>\n",
       "\t<li>'player.id'</li>\n",
       "\t<li>'player.name'</li>\n",
       "\t<li>'position.id'</li>\n",
       "\t<li>'position.name'</li>\n",
       "\t<li>'pass.length'</li>\n",
       "\t<li>'pass.angle'</li>\n",
       "\t<li>'pass.end_location'</li>\n",
       "\t<li>'pass.assisted_shot_id'</li>\n",
       "\t<li>'pass.shot_assist'</li>\n",
       "\t<li>'pass.through_ball'</li>\n",
       "\t<li>'pass.cross'</li>\n",
       "\t<li>'pass.switch'</li>\n",
       "\t<li>'pass.goal_assist'</li>\n",
       "\t<li>'pass.aerial_won'</li>\n",
       "\t<li>'pass.backheel'</li>\n",
       "\t<li>'pass.deflected'</li>\n",
       "\t<li>'pass.recipient.id'</li>\n",
       "\t<li>'pass.recipient.name'</li>\n",
       "\t<li>'pass.height.id'</li>\n",
       "\t<li>'pass.height.name'</li>\n",
       "\t<li>'pass.type.id'</li>\n",
       "\t<li>'pass.type.name'</li>\n",
       "\t<li>'pass.body_part.id'</li>\n",
       "\t<li>'pass.body_part.name'</li>\n",
       "\t<li>'pass.outcome.id'</li>\n",
       "\t<li>'pass.outcome.name'</li>\n",
       "\t<li>'ball_receipt.outcome.id'</li>\n",
       "\t<li>'ball_receipt.outcome.name'</li>\n",
       "\t<li>'dribble.nutmeg'</li>\n",
       "\t<li>'dribble.overrun'</li>\n",
       "\t<li>'dribble.outcome.id'</li>\n",
       "\t<li>'dribble.outcome.name'</li>\n",
       "\t<li>'shot.statsbomb_xg'</li>\n",
       "\t<li>'shot.end_location'</li>\n",
       "\t<li>'shot.key_pass_id'</li>\n",
       "\t<li>'shot.follows_dribble'</li>\n",
       "\t<li>'shot.freeze_frame'</li>\n",
       "\t<li>'shot.first_time'</li>\n",
       "\t<li>'shot.one_on_one'</li>\n",
       "\t<li>'shot.outcome.id'</li>\n",
       "\t<li>'shot.outcome.name'</li>\n",
       "\t<li>'shot.type.id'</li>\n",
       "\t<li>'shot.type.name'</li>\n",
       "\t<li>'shot.technique.id'</li>\n",
       "\t<li>'shot.technique.name'</li>\n",
       "\t<li>'shot.body_part.id'</li>\n",
       "\t<li>'shot.body_part.name'</li>\n",
       "\t<li>'goalkeeper.type.id'</li>\n",
       "\t<li>'goalkeeper.type.name'</li>\n",
       "\t<li>'goalkeeper.position.id'</li>\n",
       "\t<li>'goalkeeper.position.name'</li>\n",
       "\t<li>'goalkeeper.outcome.id'</li>\n",
       "\t<li>'goalkeeper.outcome.name'</li>\n",
       "\t<li>'goalkeeper.technique.id'</li>\n",
       "\t<li>'goalkeeper.technique.name'</li>\n",
       "\t<li>'goalkeeper.body_part.id'</li>\n",
       "\t<li>'goalkeeper.body_part.name'</li>\n",
       "\t<li>'duel.outcome.id'</li>\n",
       "\t<li>'duel.outcome.name'</li>\n",
       "\t<li>'duel.type.id'</li>\n",
       "\t<li>'duel.type.name'</li>\n",
       "\t<li>'ball_recovery.recovery_failure'</li>\n",
       "\t<li>'ball_recovery.offensive'</li>\n",
       "\t<li>'interception.outcome.id'</li>\n",
       "\t<li>'interception.outcome.name'</li>\n",
       "\t<li>'block.deflection'</li>\n",
       "\t<li>'substitution.outcome.id'</li>\n",
       "\t<li>'substitution.outcome.name'</li>\n",
       "\t<li>'substitution.replacement.id'</li>\n",
       "\t<li>'substitution.replacement.name'</li>\n",
       "\t<li>'foul_committed.advantage'</li>\n",
       "\t<li>'foul_committed.offensive'</li>\n",
       "\t<li>'foul_won.advantage'</li>\n",
       "\t<li>'foul_won.defensive'</li>\n",
       "\t<li>'injury_stoppage.in_chain'</li>\n",
       "\t<li>'bad_behaviour.card.id'</li>\n",
       "\t<li>'bad_behaviour.card.name'</li>\n",
       "\t<li>'match_id'</li>\n",
       "\t<li>'competition_id'</li>\n",
       "\t<li>'season_id'</li>\n",
       "\t<li>'pass.cut_back'</li>\n",
       "\t<li>'block.offensive'</li>\n",
       "\t<li>'shot.aerial_won'</li>\n",
       "\t<li>'50_50.outcome.id'</li>\n",
       "\t<li>'50_50.outcome.name'</li>\n",
       "\t<li>'foul_committed.card.id'</li>\n",
       "\t<li>'foul_committed.card.name'</li>\n",
       "\t<li>'clearance.aerial_won'</li>\n",
       "\t<li>'pass.miscommunication'</li>\n",
       "\t<li>'foul_won.penalty'</li>\n",
       "\t<li>'shot.open_goal'</li>\n",
       "\t<li>'shot9'</li>\n",
       "\t<li>'foul_committed.penalty'</li>\n",
       "\t<li>'foul_committed.type.id'</li>\n",
       "\t<li>'foul_committed.type.name'</li>\n",
       "\t<li>'block.save_block'</li>\n",
       "\t<li>'miscontrol.aerial_won'</li>\n",
       "\t<li>'shot7'</li>\n",
       "\t<li>'shot.deflected'</li>\n",
       "\t<li>'shot10'</li>\n",
       "\t<li>'shot6'</li>\n",
       "</ol>\n"
      ],
      "text/latex": [
       "\\begin{enumerate*}\n",
       "\\item 'id'\n",
       "\\item 'index'\n",
       "\\item 'period'\n",
       "\\item 'timestamp'\n",
       "\\item 'minute'\n",
       "\\item 'second'\n",
       "\\item 'possession'\n",
       "\\item 'duration'\n",
       "\\item 'related\\_events'\n",
       "\\item 'location'\n",
       "\\item 'under\\_pressure'\n",
       "\\item 'type.id'\n",
       "\\item 'type.name'\n",
       "\\item 'possession\\_team.id'\n",
       "\\item 'possession\\_team.name'\n",
       "\\item 'play\\_pattern.id'\n",
       "\\item 'play\\_pattern.name'\n",
       "\\item 'team.id'\n",
       "\\item 'team.name'\n",
       "\\item 'tactics.formation'\n",
       "\\item 'tactics.lineup'\n",
       "\\item 'player.id'\n",
       "\\item 'player.name'\n",
       "\\item 'position.id'\n",
       "\\item 'position.name'\n",
       "\\item 'pass.length'\n",
       "\\item 'pass.angle'\n",
       "\\item 'pass.end\\_location'\n",
       "\\item 'pass.assisted\\_shot\\_id'\n",
       "\\item 'pass.shot\\_assist'\n",
       "\\item 'pass.through\\_ball'\n",
       "\\item 'pass.cross'\n",
       "\\item 'pass.switch'\n",
       "\\item 'pass.goal\\_assist'\n",
       "\\item 'pass.aerial\\_won'\n",
       "\\item 'pass.backheel'\n",
       "\\item 'pass.deflected'\n",
       "\\item 'pass.recipient.id'\n",
       "\\item 'pass.recipient.name'\n",
       "\\item 'pass.height.id'\n",
       "\\item 'pass.height.name'\n",
       "\\item 'pass.type.id'\n",
       "\\item 'pass.type.name'\n",
       "\\item 'pass.body\\_part.id'\n",
       "\\item 'pass.body\\_part.name'\n",
       "\\item 'pass.outcome.id'\n",
       "\\item 'pass.outcome.name'\n",
       "\\item 'ball\\_receipt.outcome.id'\n",
       "\\item 'ball\\_receipt.outcome.name'\n",
       "\\item 'dribble.nutmeg'\n",
       "\\item 'dribble.overrun'\n",
       "\\item 'dribble.outcome.id'\n",
       "\\item 'dribble.outcome.name'\n",
       "\\item 'shot.statsbomb\\_xg'\n",
       "\\item 'shot.end\\_location'\n",
       "\\item 'shot.key\\_pass\\_id'\n",
       "\\item 'shot.follows\\_dribble'\n",
       "\\item 'shot.freeze\\_frame'\n",
       "\\item 'shot.first\\_time'\n",
       "\\item 'shot.one\\_on\\_one'\n",
       "\\item 'shot.outcome.id'\n",
       "\\item 'shot.outcome.name'\n",
       "\\item 'shot.type.id'\n",
       "\\item 'shot.type.name'\n",
       "\\item 'shot.technique.id'\n",
       "\\item 'shot.technique.name'\n",
       "\\item 'shot.body\\_part.id'\n",
       "\\item 'shot.body\\_part.name'\n",
       "\\item 'goalkeeper.type.id'\n",
       "\\item 'goalkeeper.type.name'\n",
       "\\item 'goalkeeper.position.id'\n",
       "\\item 'goalkeeper.position.name'\n",
       "\\item 'goalkeeper.outcome.id'\n",
       "\\item 'goalkeeper.outcome.name'\n",
       "\\item 'goalkeeper.technique.id'\n",
       "\\item 'goalkeeper.technique.name'\n",
       "\\item 'goalkeeper.body\\_part.id'\n",
       "\\item 'goalkeeper.body\\_part.name'\n",
       "\\item 'duel.outcome.id'\n",
       "\\item 'duel.outcome.name'\n",
       "\\item 'duel.type.id'\n",
       "\\item 'duel.type.name'\n",
       "\\item 'ball\\_recovery.recovery\\_failure'\n",
       "\\item 'ball\\_recovery.offensive'\n",
       "\\item 'interception.outcome.id'\n",
       "\\item 'interception.outcome.name'\n",
       "\\item 'block.deflection'\n",
       "\\item 'substitution.outcome.id'\n",
       "\\item 'substitution.outcome.name'\n",
       "\\item 'substitution.replacement.id'\n",
       "\\item 'substitution.replacement.name'\n",
       "\\item 'foul\\_committed.advantage'\n",
       "\\item 'foul\\_committed.offensive'\n",
       "\\item 'foul\\_won.advantage'\n",
       "\\item 'foul\\_won.defensive'\n",
       "\\item 'injury\\_stoppage.in\\_chain'\n",
       "\\item 'bad\\_behaviour.card.id'\n",
       "\\item 'bad\\_behaviour.card.name'\n",
       "\\item 'match\\_id'\n",
       "\\item 'competition\\_id'\n",
       "\\item 'season\\_id'\n",
       "\\item 'pass.cut\\_back'\n",
       "\\item 'block.offensive'\n",
       "\\item 'shot.aerial\\_won'\n",
       "\\item '50\\_50.outcome.id'\n",
       "\\item '50\\_50.outcome.name'\n",
       "\\item 'foul\\_committed.card.id'\n",
       "\\item 'foul\\_committed.card.name'\n",
       "\\item 'clearance.aerial\\_won'\n",
       "\\item 'pass.miscommunication'\n",
       "\\item 'foul\\_won.penalty'\n",
       "\\item 'shot.open\\_goal'\n",
       "\\item 'shot9'\n",
       "\\item 'foul\\_committed.penalty'\n",
       "\\item 'foul\\_committed.type.id'\n",
       "\\item 'foul\\_committed.type.name'\n",
       "\\item 'block.save\\_block'\n",
       "\\item 'miscontrol.aerial\\_won'\n",
       "\\item 'shot7'\n",
       "\\item 'shot.deflected'\n",
       "\\item 'shot10'\n",
       "\\item 'shot6'\n",
       "\\end{enumerate*}\n"
      ],
      "text/markdown": [
       "1. 'id'\n",
       "2. 'index'\n",
       "3. 'period'\n",
       "4. 'timestamp'\n",
       "5. 'minute'\n",
       "6. 'second'\n",
       "7. 'possession'\n",
       "8. 'duration'\n",
       "9. 'related_events'\n",
       "10. 'location'\n",
       "11. 'under_pressure'\n",
       "12. 'type.id'\n",
       "13. 'type.name'\n",
       "14. 'possession_team.id'\n",
       "15. 'possession_team.name'\n",
       "16. 'play_pattern.id'\n",
       "17. 'play_pattern.name'\n",
       "18. 'team.id'\n",
       "19. 'team.name'\n",
       "20. 'tactics.formation'\n",
       "21. 'tactics.lineup'\n",
       "22. 'player.id'\n",
       "23. 'player.name'\n",
       "24. 'position.id'\n",
       "25. 'position.name'\n",
       "26. 'pass.length'\n",
       "27. 'pass.angle'\n",
       "28. 'pass.end_location'\n",
       "29. 'pass.assisted_shot_id'\n",
       "30. 'pass.shot_assist'\n",
       "31. 'pass.through_ball'\n",
       "32. 'pass.cross'\n",
       "33. 'pass.switch'\n",
       "34. 'pass.goal_assist'\n",
       "35. 'pass.aerial_won'\n",
       "36. 'pass.backheel'\n",
       "37. 'pass.deflected'\n",
       "38. 'pass.recipient.id'\n",
       "39. 'pass.recipient.name'\n",
       "40. 'pass.height.id'\n",
       "41. 'pass.height.name'\n",
       "42. 'pass.type.id'\n",
       "43. 'pass.type.name'\n",
       "44. 'pass.body_part.id'\n",
       "45. 'pass.body_part.name'\n",
       "46. 'pass.outcome.id'\n",
       "47. 'pass.outcome.name'\n",
       "48. 'ball_receipt.outcome.id'\n",
       "49. 'ball_receipt.outcome.name'\n",
       "50. 'dribble.nutmeg'\n",
       "51. 'dribble.overrun'\n",
       "52. 'dribble.outcome.id'\n",
       "53. 'dribble.outcome.name'\n",
       "54. 'shot.statsbomb_xg'\n",
       "55. 'shot.end_location'\n",
       "56. 'shot.key_pass_id'\n",
       "57. 'shot.follows_dribble'\n",
       "58. 'shot.freeze_frame'\n",
       "59. 'shot.first_time'\n",
       "60. 'shot.one_on_one'\n",
       "61. 'shot.outcome.id'\n",
       "62. 'shot.outcome.name'\n",
       "63. 'shot.type.id'\n",
       "64. 'shot.type.name'\n",
       "65. 'shot.technique.id'\n",
       "66. 'shot.technique.name'\n",
       "67. 'shot.body_part.id'\n",
       "68. 'shot.body_part.name'\n",
       "69. 'goalkeeper.type.id'\n",
       "70. 'goalkeeper.type.name'\n",
       "71. 'goalkeeper.position.id'\n",
       "72. 'goalkeeper.position.name'\n",
       "73. 'goalkeeper.outcome.id'\n",
       "74. 'goalkeeper.outcome.name'\n",
       "75. 'goalkeeper.technique.id'\n",
       "76. 'goalkeeper.technique.name'\n",
       "77. 'goalkeeper.body_part.id'\n",
       "78. 'goalkeeper.body_part.name'\n",
       "79. 'duel.outcome.id'\n",
       "80. 'duel.outcome.name'\n",
       "81. 'duel.type.id'\n",
       "82. 'duel.type.name'\n",
       "83. 'ball_recovery.recovery_failure'\n",
       "84. 'ball_recovery.offensive'\n",
       "85. 'interception.outcome.id'\n",
       "86. 'interception.outcome.name'\n",
       "87. 'block.deflection'\n",
       "88. 'substitution.outcome.id'\n",
       "89. 'substitution.outcome.name'\n",
       "90. 'substitution.replacement.id'\n",
       "91. 'substitution.replacement.name'\n",
       "92. 'foul_committed.advantage'\n",
       "93. 'foul_committed.offensive'\n",
       "94. 'foul_won.advantage'\n",
       "95. 'foul_won.defensive'\n",
       "96. 'injury_stoppage.in_chain'\n",
       "97. 'bad_behaviour.card.id'\n",
       "98. 'bad_behaviour.card.name'\n",
       "99. 'match_id'\n",
       "100. 'competition_id'\n",
       "101. 'season_id'\n",
       "102. 'pass.cut_back'\n",
       "103. 'block.offensive'\n",
       "104. 'shot.aerial_won'\n",
       "105. '50_50.outcome.id'\n",
       "106. '50_50.outcome.name'\n",
       "107. 'foul_committed.card.id'\n",
       "108. 'foul_committed.card.name'\n",
       "109. 'clearance.aerial_won'\n",
       "110. 'pass.miscommunication'\n",
       "111. 'foul_won.penalty'\n",
       "112. 'shot.open_goal'\n",
       "113. 'shot9'\n",
       "114. 'foul_committed.penalty'\n",
       "115. 'foul_committed.type.id'\n",
       "116. 'foul_committed.type.name'\n",
       "117. 'block.save_block'\n",
       "118. 'miscontrol.aerial_won'\n",
       "119. 'shot7'\n",
       "120. 'shot.deflected'\n",
       "121. 'shot10'\n",
       "122. 'shot6'\n",
       "\n",
       "\n"
      ],
      "text/plain": [
       "  [1] \"id\"                             \"index\"                         \n",
       "  [3] \"period\"                         \"timestamp\"                     \n",
       "  [5] \"minute\"                         \"second\"                        \n",
       "  [7] \"possession\"                     \"duration\"                      \n",
       "  [9] \"related_events\"                 \"location\"                      \n",
       " [11] \"under_pressure\"                 \"type.id\"                       \n",
       " [13] \"type.name\"                      \"possession_team.id\"            \n",
       " [15] \"possession_team.name\"           \"play_pattern.id\"               \n",
       " [17] \"play_pattern.name\"              \"team.id\"                       \n",
       " [19] \"team.name\"                      \"tactics.formation\"             \n",
       " [21] \"tactics.lineup\"                 \"player.id\"                     \n",
       " [23] \"player.name\"                    \"position.id\"                   \n",
       " [25] \"position.name\"                  \"pass.length\"                   \n",
       " [27] \"pass.angle\"                     \"pass.end_location\"             \n",
       " [29] \"pass.assisted_shot_id\"          \"pass.shot_assist\"              \n",
       " [31] \"pass.through_ball\"              \"pass.cross\"                    \n",
       " [33] \"pass.switch\"                    \"pass.goal_assist\"              \n",
       " [35] \"pass.aerial_won\"                \"pass.backheel\"                 \n",
       " [37] \"pass.deflected\"                 \"pass.recipient.id\"             \n",
       " [39] \"pass.recipient.name\"            \"pass.height.id\"                \n",
       " [41] \"pass.height.name\"               \"pass.type.id\"                  \n",
       " [43] \"pass.type.name\"                 \"pass.body_part.id\"             \n",
       " [45] \"pass.body_part.name\"            \"pass.outcome.id\"               \n",
       " [47] \"pass.outcome.name\"              \"ball_receipt.outcome.id\"       \n",
       " [49] \"ball_receipt.outcome.name\"      \"dribble.nutmeg\"                \n",
       " [51] \"dribble.overrun\"                \"dribble.outcome.id\"            \n",
       " [53] \"dribble.outcome.name\"           \"shot.statsbomb_xg\"             \n",
       " [55] \"shot.end_location\"              \"shot.key_pass_id\"              \n",
       " [57] \"shot.follows_dribble\"           \"shot.freeze_frame\"             \n",
       " [59] \"shot.first_time\"                \"shot.one_on_one\"               \n",
       " [61] \"shot.outcome.id\"                \"shot.outcome.name\"             \n",
       " [63] \"shot.type.id\"                   \"shot.type.name\"                \n",
       " [65] \"shot.technique.id\"              \"shot.technique.name\"           \n",
       " [67] \"shot.body_part.id\"              \"shot.body_part.name\"           \n",
       " [69] \"goalkeeper.type.id\"             \"goalkeeper.type.name\"          \n",
       " [71] \"goalkeeper.position.id\"         \"goalkeeper.position.name\"      \n",
       " [73] \"goalkeeper.outcome.id\"          \"goalkeeper.outcome.name\"       \n",
       " [75] \"goalkeeper.technique.id\"        \"goalkeeper.technique.name\"     \n",
       " [77] \"goalkeeper.body_part.id\"        \"goalkeeper.body_part.name\"     \n",
       " [79] \"duel.outcome.id\"                \"duel.outcome.name\"             \n",
       " [81] \"duel.type.id\"                   \"duel.type.name\"                \n",
       " [83] \"ball_recovery.recovery_failure\" \"ball_recovery.offensive\"       \n",
       " [85] \"interception.outcome.id\"        \"interception.outcome.name\"     \n",
       " [87] \"block.deflection\"               \"substitution.outcome.id\"       \n",
       " [89] \"substitution.outcome.name\"      \"substitution.replacement.id\"   \n",
       " [91] \"substitution.replacement.name\"  \"foul_committed.advantage\"      \n",
       " [93] \"foul_committed.offensive\"       \"foul_won.advantage\"            \n",
       " [95] \"foul_won.defensive\"             \"injury_stoppage.in_chain\"      \n",
       " [97] \"bad_behaviour.card.id\"          \"bad_behaviour.card.name\"       \n",
       " [99] \"match_id\"                       \"competition_id\"                \n",
       "[101] \"season_id\"                      \"pass.cut_back\"                 \n",
       "[103] \"block.offensive\"                \"shot.aerial_won\"               \n",
       "[105] \"50_50.outcome.id\"               \"50_50.outcome.name\"            \n",
       "[107] \"foul_committed.card.id\"         \"foul_committed.card.name\"      \n",
       "[109] \"clearance.aerial_won\"           \"pass.miscommunication\"         \n",
       "[111] \"foul_won.penalty\"               \"shot.open_goal\"                \n",
       "[113] \"shot9\"                          \"foul_committed.penalty\"        \n",
       "[115] \"foul_committed.type.id\"         \"foul_committed.type.name\"      \n",
       "[117] \"block.save_block\"               \"miscontrol.aerial_won\"         \n",
       "[119] \"shot7\"                          \"shot.deflected\"                \n",
       "[121] \"shot10\"                         \"shot6\"                         "
      ]
     },
     "metadata": {},
     "output_type": "display_data"
    }
   ],
   "source": [
    "event_data <- StatsBombFreeEvents()\n",
    "\n",
    "names(event_data)"
   ]
  },
  {
   "cell_type": "markdown",
   "metadata": {},
   "source": [
    "Let's see what event types there are. Clearly, there are quite a few events to choose from. Passes and ball receipts are by far the most common."
   ]
  },
  {
   "cell_type": "code",
   "execution_count": 40,
   "metadata": {},
   "outputs": [
    {
     "data": {
      "text/plain": [
       "\n",
       "            50/50     Bad Behaviour     Ball Receipt*     Ball Recovery \n",
       "              104                 8             24450              3884 \n",
       "            Block        Camera off         Camera On         Clearance \n",
       "             1341               216               710               906 \n",
       "     Dispossessed           Dribble     Dribbled Past              Duel \n",
       "              721               989               681              1603 \n",
       "            Error    Foul Committed          Foul Won       Goal Keeper \n",
       "               26               595               564              1123 \n",
       "         Half End        Half Start   Injury Stoppage      Interception \n",
       "              128               128                70               673 \n",
       "       Miscontrol           Offside  Own Goal Against      Own Goal For \n",
       "              950                16                 2                 2 \n",
       "             Pass        Player Off         Player On          Pressure \n",
       "            28666                26                26              9973 \n",
       "Referee Ball-Drop            Shield              Shot       Starting XI \n",
       "               19                39               926                64 \n",
       "     Substitution    Tactical Shift \n",
       "              179                55 "
      ]
     },
     "metadata": {},
     "output_type": "display_data"
    }
   ],
   "source": [
    "table(event_data$type.name)"
   ]
  },
  {
   "cell_type": "code",
   "execution_count": 41,
   "metadata": {},
   "outputs": [
    {
     "data": {
      "text/plain": [
       "\n",
       "   From Corner   From Counter From Free Kick From Goal Kick    From Keeper \n",
       "          2422          13078           5565           4055           2669 \n",
       " From Kick Off  From Throw In          Other   Regular Play \n",
       "           907          16765            111          34291 "
      ]
     },
     "metadata": {},
     "output_type": "display_data"
    }
   ],
   "source": [
    "table(event_data$play_pattern.name)"
   ]
  },
  {
   "cell_type": "code",
   "execution_count": 43,
   "metadata": {},
   "outputs": [
    {
     "data": {
      "text/plain": [
       "\n",
       "      Corner    Free Kick    Goal Kick Interception     Kick Off     Recovery \n",
       "         275          573          446          292           70         4022 \n",
       "    Throw-in \n",
       "        1558 "
      ]
     },
     "metadata": {},
     "output_type": "display_data"
    }
   ],
   "source": [
    "table(event_data$pass.type.name)"
   ]
  },
  {
   "cell_type": "code",
   "execution_count": 42,
   "metadata": {},
   "outputs": [
    {
     "data": {
      "text/plain": [
       "\n",
       "Ground Pass   High Pass    Low Pass \n",
       "      17189        8031        3446 "
      ]
     },
     "metadata": {},
     "output_type": "display_data"
    }
   ],
   "source": [
    "table(event_data$pass.height.name)"
   ]
  },
  {
   "cell_type": "code",
   "execution_count": 44,
   "metadata": {},
   "outputs": [
    {
     "data": {
      "text/plain": [
       "\n",
       "      Incomplete Injury Clearance              Out     Pass Offside \n",
       "            7314               16             1136              159 \n",
       "         Unknown \n",
       "             218 "
      ]
     },
     "metadata": {},
     "output_type": "display_data"
    }
   ],
   "source": [
    "table(event_data$pass.outcome.name)"
   ]
  },
  {
   "cell_type": "code",
   "execution_count": 31,
   "metadata": {},
   "outputs": [],
   "source": [
    "passes_unclean <- event_data %>% filter(type.name == \"Pass\")\n",
    "\n"
   ]
  },
  {
   "cell_type": "code",
   "execution_count": 33,
   "metadata": {},
   "outputs": [
    {
     "data": {
      "text/html": [
       "<table>\n",
       "<thead><tr><th scope=col>duration</th><th scope=col>start_x</th><th scope=col>start_y</th><th scope=col>end_x</th><th scope=col>end_y</th><th scope=col>pass.length</th><th scope=col>pass.angle</th><th scope=col>pass.outcome.name</th></tr></thead>\n",
       "<tbody>\n",
       "\t<tr><td>0.000     </td><td>61        </td><td>40        </td><td>63        </td><td>37        </td><td> 3.605551 </td><td>-0.9827938</td><td>NA        </td></tr>\n",
       "\t<tr><td>1.640     </td><td>69        </td><td>33        </td><td>84        </td><td> 5        </td><td>31.764761 </td><td>-1.0789871</td><td>NA        </td></tr>\n",
       "\t<tr><td>2.587     </td><td> 6        </td><td>43        </td><td>59        </td><td>69        </td><td>59.033890 </td><td> 0.4560720</td><td>Incomplete</td></tr>\n",
       "\t<tr><td>1.173     </td><td>62        </td><td>12        </td><td>80        </td><td>10        </td><td>18.110771 </td><td>-0.1106572</td><td>Incomplete</td></tr>\n",
       "\t<tr><td>0.147     </td><td>41        </td><td>71        </td><td>43        </td><td>73        </td><td> 2.828427 </td><td> 0.7853982</td><td>Incomplete</td></tr>\n",
       "\t<tr><td>1.253     </td><td>43        </td><td>66        </td><td>58        </td><td>76        </td><td>18.027756 </td><td> 0.5880026</td><td>NA        </td></tr>\n",
       "</tbody>\n",
       "</table>\n"
      ],
      "text/latex": [
       "\\begin{tabular}{r|llllllll}\n",
       " duration & start\\_x & start\\_y & end\\_x & end\\_y & pass.length & pass.angle & pass.outcome.name\\\\\n",
       "\\hline\n",
       "\t 0.000      & 61         & 40         & 63         & 37         &  3.605551  & -0.9827938 & NA        \\\\\n",
       "\t 1.640      & 69         & 33         & 84         &  5         & 31.764761  & -1.0789871 & NA        \\\\\n",
       "\t 2.587      &  6         & 43         & 59         & 69         & 59.033890  &  0.4560720 & Incomplete\\\\\n",
       "\t 1.173      & 62         & 12         & 80         & 10         & 18.110771  & -0.1106572 & Incomplete\\\\\n",
       "\t 0.147      & 41         & 71         & 43         & 73         &  2.828427  &  0.7853982 & Incomplete\\\\\n",
       "\t 1.253      & 43         & 66         & 58         & 76         & 18.027756  &  0.5880026 & NA        \\\\\n",
       "\\end{tabular}\n"
      ],
      "text/markdown": [
       "\n",
       "duration | start_x | start_y | end_x | end_y | pass.length | pass.angle | pass.outcome.name | \n",
       "|---|---|---|---|---|---|\n",
       "| 0.000      | 61         | 40         | 63         | 37         |  3.605551  | -0.9827938 | NA         | \n",
       "| 1.640      | 69         | 33         | 84         |  5         | 31.764761  | -1.0789871 | NA         | \n",
       "| 2.587      |  6         | 43         | 59         | 69         | 59.033890  |  0.4560720 | Incomplete | \n",
       "| 1.173      | 62         | 12         | 80         | 10         | 18.110771  | -0.1106572 | Incomplete | \n",
       "| 0.147      | 41         | 71         | 43         | 73         |  2.828427  |  0.7853982 | Incomplete | \n",
       "| 1.253      | 43         | 66         | 58         | 76         | 18.027756  |  0.5880026 | NA         | \n",
       "\n",
       "\n"
      ],
      "text/plain": [
       "  duration start_x start_y end_x end_y pass.length pass.angle pass.outcome.name\n",
       "1 0.000    61      40      63    37     3.605551   -0.9827938 NA               \n",
       "2 1.640    69      33      84     5    31.764761   -1.0789871 NA               \n",
       "3 2.587     6      43      59    69    59.033890    0.4560720 Incomplete       \n",
       "4 1.173    62      12      80    10    18.110771   -0.1106572 Incomplete       \n",
       "5 0.147    41      71      43    73     2.828427    0.7853982 Incomplete       \n",
       "6 1.253    43      66      58    76    18.027756    0.5880026 NA               "
      ]
     },
     "metadata": {},
     "output_type": "display_data"
    }
   ],
   "source": [
    "passes_clean <- passes_unclean %>% select(duration, start_x, start_y, end_x, end_y, pass.length, pass.angle, pass.outcome.name)\n",
    "head(passes_clean)"
   ]
  },
  {
   "cell_type": "code",
   "execution_count": 37,
   "metadata": {},
   "outputs": [
    {
     "data": {
      "text/html": [
       "0.745878724699128"
      ],
      "text/latex": [
       "0.745878724699128"
      ],
      "text/markdown": [
       "0.745878724699128"
      ],
      "text/plain": [
       "[1] 0.7458787"
      ]
     },
     "metadata": {},
     "output_type": "display_data"
    }
   ],
   "source": [
    "cor(passes_clean$duration, passes_clean$pass.length)"
   ]
  },
  {
   "cell_type": "code",
   "execution_count": 34,
   "metadata": {},
   "outputs": [
    {
     "data": {
      "text/html": [
       "<ol class=list-inline>\n",
       "\t<li>NA</li>\n",
       "\t<li>'Incomplete'</li>\n",
       "\t<li>'Out'</li>\n",
       "\t<li>'Pass Offside'</li>\n",
       "\t<li>'Unknown'</li>\n",
       "\t<li>'Injury Clearance'</li>\n",
       "</ol>\n"
      ],
      "text/latex": [
       "\\begin{enumerate*}\n",
       "\\item NA\n",
       "\\item 'Incomplete'\n",
       "\\item 'Out'\n",
       "\\item 'Pass Offside'\n",
       "\\item 'Unknown'\n",
       "\\item 'Injury Clearance'\n",
       "\\end{enumerate*}\n"
      ],
      "text/markdown": [
       "1. NA\n",
       "2. 'Incomplete'\n",
       "3. 'Out'\n",
       "4. 'Pass Offside'\n",
       "5. 'Unknown'\n",
       "6. 'Injury Clearance'\n",
       "\n",
       "\n"
      ],
      "text/plain": [
       "[1] NA                 \"Incomplete\"       \"Out\"              \"Pass Offside\"    \n",
       "[5] \"Unknown\"          \"Injury Clearance\""
      ]
     },
     "metadata": {},
     "output_type": "display_data"
    }
   ],
   "source": [
    "unique(passes_clean$pass.outcome.name)"
   ]
  },
  {
   "cell_type": "code",
   "execution_count": 16,
   "metadata": {},
   "outputs": [
    {
     "name": "stderr",
     "output_type": "stream",
     "text": [
      "ERROR while rich displaying an object: Error in vapply(part, format, character(nrow(part))): values must be length 6,\n",
      " but FUN(X[[5]]) result is length 2\n",
      "\n",
      "Traceback:\n",
      "1. FUN(X[[i]], ...)\n",
      "2. tryCatch(withCallingHandlers({\n",
      " .     rpr <- mime2repr[[mime]](obj)\n",
      " .     if (is.null(rpr)) \n",
      " .         return(NULL)\n",
      " .     prepare_content(is.raw(rpr), rpr)\n",
      " . }, error = error_handler), error = outer_handler)\n",
      "3. tryCatchList(expr, classes, parentenv, handlers)\n",
      "4. tryCatchOne(expr, names, parentenv, handlers[[1L]])\n",
      "5. doTryCatch(return(expr), name, parentenv, handler)\n",
      "6. withCallingHandlers({\n",
      " .     rpr <- mime2repr[[mime]](obj)\n",
      " .     if (is.null(rpr)) \n",
      " .         return(NULL)\n",
      " .     prepare_content(is.raw(rpr), rpr)\n",
      " . }, error = error_handler)\n",
      "7. mime2repr[[mime]](obj)\n",
      "8. repr_text.data.frame(obj)\n",
      "9. ellip_limit_arr(obj, ...)\n",
      "10. arr_parts_format(parts)\n",
      "11. structure(lapply(parts, arr_part_format), omit = attr(parts, \n",
      "  .     \"omit\"))\n",
      "12. lapply(parts, arr_part_format)\n",
      "13. FUN(X[[i]], ...)\n",
      "14. vapply(part, format, character(nrow(part)))\n"
     ]
    },
    {
     "data": {},
     "metadata": {},
     "output_type": "display_data"
    }
   ],
   "source": [
    "test <- example_match_data %>% select(id, period, minute, second, type)\n",
    "head(test)"
   ]
  }
 ],
 "metadata": {
  "kernelspec": {
   "display_name": "R",
   "language": "R",
   "name": "ir"
  },
  "language_info": {
   "codemirror_mode": "r",
   "file_extension": ".r",
   "mimetype": "text/x-r-source",
   "name": "R",
   "pygments_lexer": "r",
   "version": "3.5.1"
  }
 },
 "nbformat": 4,
 "nbformat_minor": 2
}
